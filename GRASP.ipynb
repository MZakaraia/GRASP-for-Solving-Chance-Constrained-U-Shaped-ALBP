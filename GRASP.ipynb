{
 "cells": [
  {
   "cell_type": "code",
   "execution_count": 2,
   "source": [
    "from GRASP import GRASP"
   ],
   "outputs": [],
   "metadata": {}
  },
  {
   "cell_type": "code",
   "execution_count": 3,
   "source": [
    "sol = GRASP('TONGE70.txt', 207, 0.975, 0.4, 15, 30,'DS', 2)\r\n",
    "sol[0][2][1]"
   ],
   "outputs": [
    {
     "output_type": "execute_result",
     "data": {
      "text/plain": [
       "19"
      ]
     },
     "metadata": {},
     "execution_count": 3
    }
   ],
   "metadata": {}
  },
  {
   "cell_type": "code",
   "execution_count": null,
   "source": [
    "import pandas as pd"
   ],
   "outputs": [],
   "metadata": {}
  },
  {
   "cell_type": "code",
   "execution_count": null,
   "source": [
    "with open('Taguchi_GRASP.csv', \"r\") as fl:\r\n",
    "    orthogonal_array = fl.readlines()\r\n",
    "with open('DOE_problems.csv', 'r') as fl:\r\n",
    "    data = fl.readlines()\r\n",
    "orthogonal_array[0].strip().split(',')\r\n",
    "resutls = pd.DataFrame()\r\n",
    "counter = 0\r\n",
    "for j in data:\r\n",
    "    ct = int(j.strip().split(',')[1])\r\n",
    "    filename = j.strip().split(',')[0]\r\n",
    "    print(filename)\r\n",
    "    values = []\r\n",
    "    for i in orthogonal_array:\r\n",
    "        trail = i.strip().split(',')\r\n",
    "#         GRASP(problem = None, ct = None, alpha = None, swapping_rate = 0.2, n = 20, m = 30, mutation_fn = 'FS')\r\n",
    "        sol = GRASP(filename, ct, 0, float(trail[1]), int(trail[3]), int(trail[2]),trail[0])\r\n",
    "        values.append(sol[0][2][1] - (1/(1+sol[1])))\r\n",
    "    counter += 1\r\n",
    "    resutls[str(counter)] = values\r\n",
    "    resutls.to_csv('Taguchi_dataGRASP.csv', index=False)"
   ],
   "outputs": [],
   "metadata": {}
  },
  {
   "cell_type": "code",
   "execution_count": 1,
   "source": [
    "from GRASP import GRASP"
   ],
   "outputs": [],
   "metadata": {}
  },
  {
   "cell_type": "code",
   "execution_count": 9,
   "source": [
    "# Computational Results in Case of Lower Variances\r\n",
    "with open('Computational Results.csv', 'r') as fl:\r\n",
    "    problems = fl.readlines()\r\n",
    "with open('CR_higher_var_0.975.csv', 'w') as fl:\r\n",
    "    fl.write('Problem, ct, LB, Number of stations, CPU time, \\n')\r\n",
    "    for i in problems:\r\n",
    "        filename = i.strip().split(',')\r\n",
    "        problem = filename[0]\r\n",
    "        # print(problem)\r\n",
    "        ct = int(filename[1])    \r\n",
    "        sol = GRASP(problem, ct, 0.975, 0.4, 15, 30,'DS', 2)\r\n",
    "        fl.write(problem + ',' + str(ct) + ',' + str(sol[2]) + ',' + str(sol[0][2][1]) + ',' + str(sol[1]) + '\\n')"
   ],
   "outputs": [],
   "metadata": {}
  }
 ],
 "metadata": {
  "orig_nbformat": 4,
  "language_info": {
   "name": "python",
   "version": "3.9.6",
   "mimetype": "text/x-python",
   "codemirror_mode": {
    "name": "ipython",
    "version": 3
   },
   "pygments_lexer": "ipython3",
   "nbconvert_exporter": "python",
   "file_extension": ".py"
  },
  "kernelspec": {
   "name": "python3",
   "display_name": "Python 3.9.6 64-bit"
  },
  "interpreter": {
   "hash": "63fd5069d213b44bf678585dea6b12cceca9941eaf7f819626cde1f2670de90d"
  }
 },
 "nbformat": 4,
 "nbformat_minor": 2
}